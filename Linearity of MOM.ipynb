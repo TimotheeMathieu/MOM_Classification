{
 "cells": [
  {
   "cell_type": "code",
   "execution_count": 1,
   "metadata": {
    "collapsed": true
   },
   "outputs": [],
   "source": [
    "import numpy as np\n",
    "from matplotlib import pyplot as plt"
   ]
  },
  {
   "cell_type": "code",
   "execution_count": 2,
   "metadata": {
    "collapsed": true
   },
   "outputs": [],
   "source": [
    "from linear_model_MOM import blockMOM, MOM"
   ]
  },
  {
   "cell_type": "markdown",
   "metadata": {},
   "source": [
    "#### Test linearity MOM with block fixed"
   ]
  },
  {
   "cell_type": "code",
   "execution_count": 3,
   "metadata": {
    "collapsed": true
   },
   "outputs": [],
   "source": [
    "K=10"
   ]
  },
  {
   "cell_type": "code",
   "execution_count": 4,
   "metadata": {
    "collapsed": true
   },
   "outputs": [],
   "source": [
    "def sample(M,K):\n",
    "    res=[]\n",
    "    for i in range(M):\n",
    "        print('\\r',i,end='')\n",
    "\n",
    "        # Creation of dependent sample\n",
    "        X=np.random.rand(1000)\n",
    "        Y=X**2\n",
    "        blocks=blockMOM(K,range(1000))\n",
    "        res+=[[MOM(Y-X,blocks)[0],MOM(Y,blocks)[0],MOM(X,blocks)[0]]]\n",
    "    return res"
   ]
  },
  {
   "cell_type": "code",
   "execution_count": 5,
   "metadata": {
    "collapsed": false
   },
   "outputs": [
    {
     "name": "stdout",
     "output_type": "stream",
     "text": [
      " 499"
     ]
    }
   ],
   "source": [
    "result=sample(500,K)"
   ]
  },
  {
   "cell_type": "code",
   "execution_count": 6,
   "metadata": {
    "collapsed": false
   },
   "outputs": [
    {
     "data": {
      "image/png": "[encoded data removed]",
      "text/plain": [
       "<matplotlib.figure.Figure at 0x7fd3f874ac18>"
      ]
     },
     "metadata": {},
     "output_type": "display_data"
    }
   ],
   "source": [
    "from matplotlib import pyplot as plt\n",
    "result=np.array(result)\n",
    "plt.hist(result[:,0],histtype='step',label='MOM(Y-X)',normed=True,bins=20)\n",
    "plt.hist(result[:,1]-result[:,2],histtype='step',label='MOM(Y)-MOM(X)',normed=True,bins=20)\n",
    "plt.legend()\n",
    "plt.show()"
   ]
  },
  {
   "cell_type": "markdown",
   "metadata": {},
   "source": [
    "#### Test linearity $E_{\\sigma}[MOM]$ using monte carlo"
   ]
  },
  {
   "cell_type": "code",
   "execution_count": 7,
   "metadata": {
    "collapsed": true
   },
   "outputs": [],
   "source": [
    "def sample(M,K):\n",
    "    res=[]\n",
    "    for i in range(M):\n",
    "        if i%50==0:\n",
    "            print('\\r',i,end='')\n",
    "        # Creation of dependent sample\n",
    "        X=np.random.rand(1000)\n",
    "        Y=X**2\n",
    "        resmc=[0,0,0]\n",
    "        for f in range(1000):\n",
    "            blocks=blockMOM(K,range(1000))\n",
    "            resmc[0]+=MOM(Y-X,blocks)[0]\n",
    "            resmc[1]+=MOM(Y,blocks)[0]\n",
    "            resmc[2]+=MOM(X,blocks)[0]\n",
    "        resmc=np.array(resmc)/1000\n",
    "        res+=[resmc]\n",
    "    return res"
   ]
  },
  {
   "cell_type": "code",
   "execution_count": null,
   "metadata": {
    "collapsed": false
   },
   "outputs": [],
   "source": [
    "result=sample(500,K)"
   ]
  },
  {
   "cell_type": "code",
   "execution_count": 10,
   "metadata": {
    "collapsed": false
   },
   "outputs": [
    {
     "data": {
      "image/png": "[encoded data removed]",
      "text/plain": [
       "<matplotlib.figure.Figure at 0x7fd3f56d8470>"
      ]
     },
     "metadata": {},
     "output_type": "display_data"
    }
   ],
   "source": [
    "from matplotlib import pyplot as plt\n",
    "result=np.array(result)\n",
    "plt.hist(result[:,0],histtype='step',label='MOM(Y-X)',normed=True,bins=20)\n",
    "plt.hist(result[:,1]-result[:,2],histtype='step',label='MOM(Y)-MOM(X)',normed=True,bins=20)\n",
    "plt.legend()\n",
    "plt.show()"
   ]
  },
  {
   "cell_type": "code",
   "execution_count": null,
   "metadata": {
    "collapsed": true
   },
   "outputs": [],
   "source": [
    "### Disparity caused by the Monte Carlo estimation of $E_{\\sigma}[MOM]$, as we increase"
   ]
  }
 ],
 "metadata": {
  "kernelspec": {
   "display_name": "Python 3",
   "language": "python",
   "name": "python3"
  },
  "language_info": {
   "codemirror_mode": {
    "name": "ipython",
    "version": 3
   },
   "file_extension": ".py",
   "mimetype": "text/x-python",
   "name": "python",
   "nbconvert_exporter": "python",
   "pygments_lexer": "ipython3",
   "version": "3.6.3"
  }
 },
 "nbformat": 4,
 "nbformat_minor": 2
}
